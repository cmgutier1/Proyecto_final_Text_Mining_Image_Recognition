{
 "cells": [
  {
   "cell_type": "markdown",
   "id": "1006709d",
   "metadata": {},
   "source": [
    "PROBLEMA 2"
   ]
  },
  {
   "cell_type": "markdown",
   "id": "23e9730a",
   "metadata": {},
   "source": [
    "Cargar librerias"
   ]
  },
  {
   "cell_type": "code",
   "execution_count": 7,
   "id": "b86da6c5",
   "metadata": {},
   "outputs": [],
   "source": [
    "import numpy as np\n",
    "import pandas as pd\n",
    "import tensorflow as tf\n",
    "from tensorflow import keras\n",
    "from sklearn.model_selection import train_test_split\n",
    "from sklearn.metrics import confusion_matrix, classification_report\n",
    "from sklearn.metrics import accuracy_score, precision_score, recall_score, f1_score"
   ]
  },
  {
   "cell_type": "markdown",
   "id": "42df5766",
   "metadata": {},
   "source": [
    "Cargar el DATA SET"
   ]
  },
  {
   "cell_type": "code",
   "execution_count": 2,
   "id": "eb9db342",
   "metadata": {},
   "outputs": [],
   "source": [
    "train_data = pd.read_csv(\"train.csv\")"
   ]
  },
  {
   "cell_type": "code",
   "execution_count": 5,
   "id": "276eeea3",
   "metadata": {},
   "outputs": [
    {
     "name": "stdout",
     "output_type": "stream",
     "text": [
      "Epoch 1/10\n",
      "1050/1050 [==============================] - 3s 2ms/step - loss: 4.3047 - accuracy: 0.8603\n",
      "Epoch 2/10\n",
      "1050/1050 [==============================] - 3s 3ms/step - loss: 0.5699 - accuracy: 0.8950\n",
      "Epoch 3/10\n",
      "1050/1050 [==============================] - 3s 3ms/step - loss: 0.3649 - accuracy: 0.9181\n",
      "Epoch 4/10\n",
      "1050/1050 [==============================] - 3s 3ms/step - loss: 0.2955 - accuracy: 0.9282\n",
      "Epoch 5/10\n",
      "1050/1050 [==============================] - 3s 2ms/step - loss: 0.2587 - accuracy: 0.9351\n",
      "Epoch 6/10\n",
      "1050/1050 [==============================] - 3s 3ms/step - loss: 0.2617 - accuracy: 0.9403\n",
      "Epoch 7/10\n",
      "1050/1050 [==============================] - 3s 3ms/step - loss: 0.2247 - accuracy: 0.9455\n",
      "Epoch 8/10\n",
      "1050/1050 [==============================] - 3s 3ms/step - loss: 0.2260 - accuracy: 0.9452\n",
      "Epoch 9/10\n",
      "1050/1050 [==============================] - 3s 3ms/step - loss: 0.1996 - accuracy: 0.9504\n",
      "Epoch 10/10\n",
      "1050/1050 [==============================] - 3s 3ms/step - loss: 0.1891 - accuracy: 0.9525\n",
      "263/263 [==============================] - 1s 1ms/step\n",
      "Métricas de la ANN:\n",
      "[[799   0   0   0   0   2   1   0  10   4]\n",
      " [  0 902   2   0   2   1   0   0   1   1]\n",
      " [ 11  12 781   7   6   2   1   5  19   2]\n",
      " [  1   2   8 842   0  47   0   4  22  11]\n",
      " [  4   1   1   0 808   2   4   1   1  17]\n",
      " [  3   2   2  10   0 662  11   1   4   7]\n",
      " [  9   1   2   0   4   9 746   1  13   0]\n",
      " [  1   3  10   1  19   4   0 818   2  35]\n",
      " [  5   2   7   8  15  32   6   0 745  15]\n",
      " [  1   2   0  13  29  10   0   4   4 775]]\n",
      "              precision    recall  f1-score   support\n",
      "\n",
      "           0       0.96      0.98      0.97       816\n",
      "           1       0.97      0.99      0.98       909\n",
      "           2       0.96      0.92      0.94       846\n",
      "           3       0.96      0.90      0.93       937\n",
      "           4       0.92      0.96      0.94       839\n",
      "           5       0.86      0.94      0.90       702\n",
      "           6       0.97      0.95      0.96       785\n",
      "           7       0.98      0.92      0.95       893\n",
      "           8       0.91      0.89      0.90       835\n",
      "           9       0.89      0.92      0.91       838\n",
      "\n",
      "    accuracy                           0.94      8400\n",
      "   macro avg       0.94      0.94      0.94      8400\n",
      "weighted avg       0.94      0.94      0.94      8400\n",
      "\n"
     ]
    }
   ],
   "source": [
    "# Separar características y etiquetas\n",
    "X = train_data.drop(\"label\", axis=1)\n",
    "y = train_data[\"label\"]\n",
    "\n",
    "# Reshape a 28x28\n",
    "X = X.values.reshape(-1, 28, 28)\n",
    "\n",
    "# Dividir en conjuntos de entrenamiento y prueba\n",
    "X_train, X_test, y_train, y_test = train_test_split(X, y, test_size=0.2, random_state=42)\n",
    "\n",
    "# Crear y entrenar una Red Neuronal Artificial (ANN)\n",
    "model_ann = keras.Sequential([\n",
    "    keras.layers.Flatten(input_shape=(28, 28)),\n",
    "    keras.layers.Dense(128, activation='relu'),\n",
    "    keras.layers.Dense(10, activation='softmax')\n",
    "])\n",
    "\n",
    "model_ann.compile(optimizer='adam',\n",
    "                  loss='sparse_categorical_crossentropy',\n",
    "                  metrics=['accuracy'])\n",
    "\n",
    "model_ann.fit(X_train, y_train, epochs=10)\n",
    "\n",
    "# Evaluar la ANN\n",
    "ann_predictions = model_ann.predict(X_test)\n",
    "ann_predicted_labels = np.argmax(ann_predictions, axis=1)\n",
    "\n",
    "print(\"Métricas de la ANN:\")\n",
    "print(confusion_matrix(y_test, ann_predicted_labels))\n",
    "print(classification_report(y_test, ann_predicted_labels))\n"
   ]
  },
  {
   "cell_type": "markdown",
   "id": "2a3165c2",
   "metadata": {},
   "source": [
    "Crear y entrenar una Red Neuronal Convolucional (CNN)"
   ]
  },
  {
   "cell_type": "code",
   "execution_count": 6,
   "id": "c6d2fef7",
   "metadata": {},
   "outputs": [
    {
     "name": "stdout",
     "output_type": "stream",
     "text": [
      "Epoch 1/10\n",
      "1050/1050 [==============================] - 31s 28ms/step - loss: 0.8430 - accuracy: 0.9098\n",
      "Epoch 2/10\n",
      "1050/1050 [==============================] - 25s 23ms/step - loss: 0.0960 - accuracy: 0.9727\n",
      "Epoch 3/10\n",
      "1050/1050 [==============================] - 21s 20ms/step - loss: 0.0580 - accuracy: 0.9819\n",
      "Epoch 4/10\n",
      "1050/1050 [==============================] - 20s 19ms/step - loss: 0.0429 - accuracy: 0.9866\n",
      "Epoch 5/10\n",
      "1050/1050 [==============================] - 19s 18ms/step - loss: 0.0366 - accuracy: 0.9895\n",
      "Epoch 6/10\n",
      "1050/1050 [==============================] - 17s 17ms/step - loss: 0.0324 - accuracy: 0.9898\n",
      "Epoch 7/10\n",
      "1050/1050 [==============================] - 17s 16ms/step - loss: 0.0232 - accuracy: 0.9925\n",
      "Epoch 8/10\n",
      "1050/1050 [==============================] - 17s 16ms/step - loss: 0.0227 - accuracy: 0.9930\n",
      "Epoch 9/10\n",
      "1050/1050 [==============================] - 16s 15ms/step - loss: 0.0216 - accuracy: 0.9930\n",
      "Epoch 10/10\n",
      "1050/1050 [==============================] - 16s 15ms/step - loss: 0.0196 - accuracy: 0.9940\n",
      "263/263 [==============================] - 1s 4ms/step\n",
      "\n",
      "Métricas de la CNN:\n",
      "[[808   0   2   0   0   0   4   0   1   1]\n",
      " [  0 898   5   0   0   1   2   2   1   0]\n",
      " [  1   4 828   1   4   1   0   3   4   0]\n",
      " [  0   0   5 912   0   6   0   1  11   2]\n",
      " [  1   3   2   2 806   0   1   3   1  20]\n",
      " [  1   0   0   6   1 684   2   0   8   0]\n",
      " [  4   2   2   0   1   1 767   0   8   0]\n",
      " [  0   5  10   2   2   0   0 871   0   3]\n",
      " [  1   2   2   2   4   4   3   2 811   4]\n",
      " [  0   1   2   2   4   1   0   6   5 817]]\n",
      "              precision    recall  f1-score   support\n",
      "\n",
      "           0       0.99      0.99      0.99       816\n",
      "           1       0.98      0.99      0.98       909\n",
      "           2       0.97      0.98      0.97       846\n",
      "           3       0.98      0.97      0.98       937\n",
      "           4       0.98      0.96      0.97       839\n",
      "           5       0.98      0.97      0.98       702\n",
      "           6       0.98      0.98      0.98       785\n",
      "           7       0.98      0.98      0.98       893\n",
      "           8       0.95      0.97      0.96       835\n",
      "           9       0.96      0.97      0.97       838\n",
      "\n",
      "    accuracy                           0.98      8400\n",
      "   macro avg       0.98      0.98      0.98      8400\n",
      "weighted avg       0.98      0.98      0.98      8400\n",
      "\n"
     ]
    }
   ],
   "source": [
    "model_cnn = keras.Sequential([\n",
    "    keras.layers.Conv2D(32, kernel_size=(3, 3), activation='relu', input_shape=(28, 28, 1)),\n",
    "    keras.layers.MaxPooling2D(pool_size=(2, 2)),\n",
    "    keras.layers.Flatten(),\n",
    "    keras.layers.Dense(128, activation='relu'),\n",
    "    keras.layers.Dense(10, activation='softmax')\n",
    "])\n",
    "\n",
    "model_cnn.compile(optimizer='adam',\n",
    "                  loss='sparse_categorical_crossentropy',\n",
    "                  metrics=['accuracy'])\n",
    "\n",
    "X_train_cnn = X_train.reshape(-1, 28, 28, 1)\n",
    "X_test_cnn = X_test.reshape(-1, 28, 28, 1)\n",
    "\n",
    "model_cnn.fit(X_train_cnn, y_train, epochs=10)\n",
    "\n",
    "# Evaluar la CNN\n",
    "cnn_predictions = model_cnn.predict(X_test_cnn)\n",
    "cnn_predicted_labels = np.argmax(cnn_predictions, axis=1)\n",
    "\n",
    "print(\"\\nMétricas de la CNN:\")\n",
    "print(confusion_matrix(y_test, cnn_predicted_labels))\n",
    "print(classification_report(y_test, cnn_predicted_labels))\n"
   ]
  },
  {
   "cell_type": "markdown",
   "id": "f8f15757",
   "metadata": {},
   "source": [
    "Crear listas para almacenar las métricas"
   ]
  },
  {
   "cell_type": "code",
   "execution_count": 8,
   "id": "c14b85a7",
   "metadata": {},
   "outputs": [
    {
     "name": "stdout",
     "output_type": "stream",
     "text": [
      "  Modelo  Exactitud  Precisión    Recall  F1-Score\n",
      "0    ANN   0.937857   0.939182  0.937857  0.937976\n",
      "1    CNN   0.976429   0.976521  0.976429  0.976442\n"
     ]
    }
   ],
   "source": [
    "modelos = []\n",
    "exactitudes = []\n",
    "precisiones = []\n",
    "recalls = []\n",
    "f1_scores = []\n",
    "\n",
    "# Calcular métricas para la ANN\n",
    "ann_exactitud = accuracy_score(y_test, ann_predicted_labels)\n",
    "ann_precision = precision_score(y_test, ann_predicted_labels, average='weighted')\n",
    "ann_recall = recall_score(y_test, ann_predicted_labels, average='weighted')\n",
    "ann_f1 = f1_score(y_test, ann_predicted_labels, average='weighted')\n",
    "\n",
    "modelos.append('ANN')\n",
    "exactitudes.append(ann_exactitud)\n",
    "precisiones.append(ann_precision)\n",
    "recalls.append(ann_recall)\n",
    "f1_scores.append(ann_f1)\n",
    "\n",
    "# Calcular métricas para la CNN\n",
    "cnn_exactitud = accuracy_score(y_test, cnn_predicted_labels)\n",
    "cnn_precision = precision_score(y_test, cnn_predicted_labels, average='weighted')\n",
    "cnn_recall = recall_score(y_test, cnn_predicted_labels, average='weighted')\n",
    "cnn_f1 = f1_score(y_test, cnn_predicted_labels, average='weighted')\n",
    "\n",
    "modelos.append('CNN')\n",
    "exactitudes.append(cnn_exactitud)\n",
    "precisiones.append(cnn_precision)\n",
    "recalls.append(cnn_recall)\n",
    "f1_scores.append(cnn_f1)\n",
    "\n",
    "# Crear un DataFrame con las métricas\n",
    "metricas = pd.DataFrame({\n",
    "    'Modelo': modelos,\n",
    "    'Exactitud': exactitudes,\n",
    "    'Precisión': precisiones,\n",
    "    'Recall': recalls,\n",
    "    'F1-Score': f1_scores\n",
    "})\n",
    "\n",
    "# Mostrar la tabla comparativa de métricas\n",
    "print(metricas)\n"
   ]
  },
  {
   "cell_type": "code",
   "execution_count": 9,
   "id": "24f6c7eb",
   "metadata": {},
   "outputs": [
    {
     "data": {
      "image/png": "[encoded data removed]",
      "text/plain": [
       "<Figure size 1000x600 with 1 Axes>"
      ]
     },
     "metadata": {},
     "output_type": "display_data"
    }
   ],
   "source": [
    "import matplotlib.pyplot as plt\n",
    "\n",
    "# Métricas de la ANN (ejemplo)\n",
    "modelos = ['ANN', 'CNN']\n",
    "exactitud = [0.95, 0.98]\n",
    "precision = [0.95, 0.98]\n",
    "recall = [0.95, 0.98]\n",
    "f1_score = [0.95, 0.98]\n",
    "\n",
    "# Crear gráficos de barras para las métricas\n",
    "plt.figure(figsize=(10, 6))\n",
    "plt.bar(modelos, exactitud, label='Exactitud')\n",
    "plt.bar(modelos, precision, label='Precisión')\n",
    "plt.bar(modelos, recall, label='Recall')\n",
    "plt.bar(modelos, f1_score, label='F1-Score')\n",
    "plt.xlabel('Modelo')\n",
    "plt.ylabel('Valor')\n",
    "plt.title('Comparación de Métricas')\n",
    "plt.legend()\n",
    "\n",
    "# Guardar el gráfico como una imagen\n",
    "plt.savefig('metricas.png')"
   ]
  },
  {
   "cell_type": "markdown",
   "id": "299a9d3d",
   "metadata": {},
   "source": [
    "## Comparación de Modelos\n",
    "\n",
    "A continuación, se muestra una tabla con las métricas de rendimiento para la ANN y la CNN:\n",
    "\n",
    "![Métricas de Rendimiento](metricas.png)\n",
    "\n"
   ]
  },
  {
   "cell_type": "code",
   "execution_count": 10,
   "id": "6a31c79d",
   "metadata": {},
   "outputs": [
    {
     "data": {
      "image/png": "[encoded data removed]",
      "text/plain": [
       "<Figure size 1000x500 with 15 Axes>"
      ]
     },
     "metadata": {},
     "output_type": "display_data"
    }
   ],
   "source": [
    "import matplotlib.pyplot as plt\n",
    "import random\n",
    "\n",
    "# Selecciona un conjunto aleatorio de índices para mostrar varias imágenes\n",
    "indices_aleatorios = random.sample(range(len(X_test)), 5)\n",
    "\n",
    "# Configura una figura para mostrar las imágenes\n",
    "plt.figure(figsize=(10, 5))\n",
    "\n",
    "for i, idx in enumerate(indices_aleatorios):\n",
    "    # Configura tres subgráficos en fila (imagen real, predicción ANN, predicción CNN)\n",
    "    plt.subplot(3, 5, i + 1)\n",
    "    plt.imshow(X_test[idx], cmap='gray')\n",
    "    plt.title(f'Real: {y_test.iloc[idx]}')\n",
    "    plt.axis('off')\n",
    "\n",
    "    plt.subplot(3, 5, i + 6)\n",
    "    plt.imshow(X_test[idx], cmap='gray')\n",
    "    plt.title(f'Pred. ANN: {ann_predicted_labels[idx]}')\n",
    "    plt.axis('off')\n",
    "\n",
    "    plt.subplot(3, 5, i + 11)\n",
    "    plt.imshow(X_test[idx], cmap='gray')\n",
    "    plt.title(f'Pred. CNN: {cnn_predicted_labels[idx]}')\n",
    "    plt.axis('off')\n",
    "\n",
    "plt.tight_layout()\n",
    "plt.show()\n"
   ]
  },
  {
   "cell_type": "code",
   "execution_count": 11,
   "id": "691c9933",
   "metadata": {},
   "outputs": [
    {
     "name": "stdout",
     "output_type": "stream",
     "text": [
      "El mejor modelo es: CNN\n"
     ]
    }
   ],
   "source": [
    "# Según las métricas de exactitud para ANN y CNN\n",
    "exactitud_ann = 0.95\n",
    "exactitud_cnn = 0.98\n",
    "\n",
    "# Comparar las métricas y selecciona el mejor modelo\n",
    "mejor_modelo = \"ANN\" if exactitud_ann > exactitud_cnn else \"CNN\"\n",
    "\n",
    "# Imprime el resultado\n",
    "print(f\"El mejor modelo es: {mejor_modelo}\")\n"
   ]
  }
 ],
 "metadata": {
  "kernelspec": {
   "display_name": "Python 3 (ipykernel)",
   "language": "python",
   "name": "python3"
  },
  "language_info": {
   "codemirror_mode": {
    "name": "ipython",
    "version": 3
   },
   "file_extension": ".py",
   "mimetype": "text/x-python",
   "name": "python",
   "nbconvert_exporter": "python",
   "pygments_lexer": "ipython3",
   "version": "3.9.13"
  }
 },
 "nbformat": 4,
 "nbformat_minor": 5
}
